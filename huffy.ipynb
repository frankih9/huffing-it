{
 "cells": [
  {
   "cell_type": "markdown",
   "metadata": {
    "deletable": true,
    "editable": true
   },
   "source": [
    "# Huffman Coding and Graphing Its Tree\n",
    "---\n",
    "An exhaustive web search of test cases are listed in the cell below."
   ]
  },
  {
   "cell_type": "code",
   "execution_count": 46,
   "metadata": {
    "collapsed": true,
    "deletable": true,
    "editable": true
   },
   "outputs": [],
   "source": [
    "#https://cs.nyu.edu/courses/fall10/V22.0102-004/lectures/Huffman.pdf\n",
    "# sym=['a','b','c','d','e','f','g']\n",
    "# prb=[37, 18, 29, 13, 30, 17, 6]\n",
    "\n",
    "#https://www.includehelp.com/algorithms/huffman-coding-algorithm-example-and-time-complexity.aspx\n",
    "sym=['m1','m2','m3','m4','m5','m6', 'm7']\n",
    "prb=[4, 5, 7, 8, 10, 12, 20]\n",
    "\n",
    "#https://www.geeksforgeeks.org/huffman-coding-greedy-algo-3/\n",
    "# sym=['a','b','c','d','e','f']\n",
    "# prb=[5, 9, 12, 13, 16, 45]\n",
    "\n",
    "#https://www.thecrazyprogrammer.com/2014/09/huffman-coding-algorithm-with-example.html\n",
    "# sym=['a','b','c','d','e','f']\n",
    "# prb=[5, 25, 7, 15, 4, 12]"
   ]
  },
  {
   "cell_type": "markdown",
   "metadata": {
    "deletable": true,
    "editable": true
   },
   "source": [
    "The data is formatted to two lists:\n",
    "* '**sym**' is the list of symbols.  Each symbol should be of type *str*.\n",
    "* '**prb**' is the list of corresponding probability or frequency of type *int* or *float*.\n",
    "\n",
    "---"
   ]
  },
  {
   "cell_type": "markdown",
   "metadata": {
    "deletable": true,
    "editable": true
   },
   "source": [
    "## I.  Generate Huffman Code\n",
    "The function '**huff_code**' generates a dictionary '**code_dict**' of symbols and their codes.  '**sym_nest**' is the output of function '**group**' and it is used in the function '**bits**'.  Later, both outputs are utilized to generate additional information for graphing. "
   ]
  },
  {
   "cell_type": "code",
   "execution_count": 47,
   "metadata": {
    "collapsed": true,
    "deletable": true,
    "editable": true
   },
   "outputs": [],
   "source": [
    "def huff_code(symb, prob):\n",
    "    '''\n",
    "    Makes copies of the lists 'symb' and 'prob' then calls the function\n",
    "    'group' to generate a nested list of lists of symbols representing \n",
    "    the huffman code tree structure.  A dictionary 'code_dict' of symbols \n",
    "    and binary code is created with the function 'bits'.  \n",
    "    '''\n",
    "    \n",
    "    #------------------------------------------------------------------\n",
    "    def group(symb, prob):\n",
    "        '''\n",
    "        Taking a list of symols('symb') and a corresponding list of \n",
    "        probabilities('prob'), the two least probable symbols are first \n",
    "        grouped into a list and added to 'symb' as a new \"symbol\".  \n",
    "        Their individual probabilities are deleted while their combined \n",
    "        or summed probabilities are added to 'prob'.  This function is \n",
    "        iteratively called until 'symb' only contains two items.\n",
    "        '''\n",
    "        if len(symb)==2:\n",
    "            return \n",
    "        else:\n",
    "            new_p=0\n",
    "            min_sym_lst=[]\n",
    "            for i in range(2):\n",
    "                min_p = min(prob)\n",
    "                index = prob.index(min_p)\n",
    "                min_s = symb[index]\n",
    "                new_p = new_p + min_p\n",
    "                min_sym_lst.append(min_s)\n",
    "                prob.remove(prob[index])\n",
    "                symb.remove(symb[index])                  \n",
    "            prob.append(new_p)\n",
    "            symb.append(min_sym_lst)      \n",
    "            group(symb, prob)\n",
    "    #------------------------------------------------------------------ \n",
    "    \n",
    "    #------------------------------------------------------------------         \n",
    "    def bits(symb, bitstr=''):\n",
    "        '''\n",
    "        After the operation on the original 'symb' by the function 'group', \n",
    "        'symb' contains a list where each list contains two items.  \n",
    "        Exploiting this fact, bit '0' or '1' is appended based on the \n",
    "        object's index within the operated list.  This function is \n",
    "        recursively called when each item is found in the list is a list.  \n",
    "        The termination condition is met when the item found in the list is \n",
    "        a str.  \n",
    "        '''\n",
    "        for i in range(2):\n",
    "            if type(symb[i]) == str:\n",
    "                code_dict[symb[i]] = bitstr + str(i)\n",
    "            else:\n",
    "                bits(symb[i], bitstr + str(i))\n",
    "        return\n",
    "    #------------------------------------------------------------------\n",
    "\n",
    "    #make copies of lists 'sym and 'prb'    \n",
    "    sym_nest=symb.copy()\n",
    "    prb_cpy=prob.copy()\n",
    "    \n",
    "    #modify sym_cpy to a list of lists containing symbols and or lists \n",
    "    group(sym_nest,prb_cpy)\n",
    "    \n",
    "    #global dict of key(symbol) and value(code)\n",
    "    code_dict={}\n",
    "    \n",
    "    #populate code_dict with key(symbol) and value(1's and 0's) \n",
    "    bits(sym_nest)\n",
    "    \n",
    "    return sym_nest, code_dict"
   ]
  },
  {
   "cell_type": "markdown",
   "metadata": {
    "deletable": true,
    "editable": true
   },
   "source": [
    "The above function is called for the selected test case.  \n",
    "The dictionary of the resulting code is printed."
   ]
  },
  {
   "cell_type": "code",
   "execution_count": 48,
   "metadata": {
    "collapsed": false,
    "deletable": true,
    "editable": true
   },
   "outputs": [
    {
     "name": "stdout",
     "output_type": "stream",
     "text": [
      "Huffman Code Dictionary\n",
      "-----------------------\n",
      "\n",
      "{'m2': '1001', 'm5': '101', 'm6': '00', 'm7': '11', 'm1': '1000', 'm3': '010', 'm4': '011'}\n"
     ]
    }
   ],
   "source": [
    "sym_nest, code_dict = huff_code(sym,prb)\n",
    "print('Huffman Code Dictionary')\n",
    "print('-----------------------\\n')\n",
    "print(code_dict)"
   ]
  },
  {
   "cell_type": "markdown",
   "metadata": {
    "collapsed": true,
    "deletable": true,
    "editable": true
   },
   "source": [
    "***Done!*** Unless visuals are interesting.  "
   ]
  },
  {
   "cell_type": "markdown",
   "metadata": {
    "deletable": true,
    "editable": true
   },
   "source": [
    "---"
   ]
  },
  {
   "cell_type": "markdown",
   "metadata": {
    "deletable": true,
    "editable": true
   },
   "source": [
    "## II. Requirements to Graph the Huffman Code Tree\n",
    "*NetworkX* is chosen as the package to plot the tree structure because all other available packages seem just as difficult to use.  \n",
    "  In order to produce such a graph, the following informations are required:  \n",
    "1.  Dictionary of nodes and children\n",
    "2.  Edge labels of '1' or '0'\n",
    "3.  Node labels of either node/symbol names or their corresponding probabilities\n",
    "4.  Positions of each node/symbol"
   ]
  },
  {
   "cell_type": "markdown",
   "metadata": {
    "deletable": true,
    "editable": true
   },
   "source": [
    "### 1.  Dictionary of Nodes and Their Children\n",
    "To generate a dictionary of nodes and their children, the list '**sym_nest**' is utilized.  \n",
    "This list is shown in the output below."
   ]
  },
  {
   "cell_type": "code",
   "execution_count": 49,
   "metadata": {
    "collapsed": false,
    "deletable": true,
    "editable": true
   },
   "outputs": [
    {
     "name": "stdout",
     "output_type": "stream",
     "text": [
      "Nested List of Lists and Symbols\n",
      "--------------------------------\n",
      "\n",
      "[['m6', ['m3', 'm4']], [[['m1', 'm2'], 'm5'], 'm7']]\n"
     ]
    }
   ],
   "source": [
    "print('Nested List of Lists and Symbols')\n",
    "print('--------------------------------\\n')\n",
    "print(sym_nest)"
   ]
  },
  {
   "cell_type": "markdown",
   "metadata": {
    "deletable": true,
    "editable": true
   },
   "source": [
    "'**sym_nest**' is passed into function '**node_child_gen**' to generates the dictionary of nodes and their children called '**node_child_dict**'.  This dictionary is required by *NetworkX* to define the connections of the graph. "
   ]
  },
  {
   "cell_type": "code",
   "execution_count": 50,
   "metadata": {
    "collapsed": true,
    "deletable": true,
    "editable": true
   },
   "outputs": [],
   "source": [
    "def node_child_gen(symb, node_label):\n",
    "    '''\n",
    "    Just a wrapper for the function 'node_child' since it is recursive and\n",
    "    operates on an external dictionary 'node_child_dict'.\n",
    "    '''   \n",
    "    \n",
    "    #------------------------------------------------------------------ \n",
    "    def node_child(symb, node_index = 0):\n",
    "        '''\n",
    "        Build a dictionary of nodes and their immediate two children.\n",
    "        The list 'symb' is a nested list of lists of symbols generated\n",
    "        by the function 'group'.  When a list is encountered, a node name\n",
    "        is created and added to the list 'kid'.  After both children are\n",
    "        found, the node and its children are added to 'node_child_dict'. \n",
    "        'node_child' is called recursively until a symbol of type str is \n",
    "        encountered.\n",
    "        '''\n",
    "        n =  node_index\n",
    "        current_node_index = n\n",
    "        kid = []\n",
    "        for i in range(2):\n",
    "            if type(symb[i]) == str:\n",
    "                kid.append(symb[i])\n",
    "            else:\n",
    "                node = node_label+str(n+1)\n",
    "                n = n+1\n",
    "                node_child_dict[node] = ''\n",
    "                kid.append(node)\n",
    "                n = node_child(symb[i],n)\n",
    "        node_child_dict[node_label+str(current_node_index)] = kid\n",
    "        return n \n",
    "    #------------------------------------------------------------------ \n",
    "    \n",
    "    #create a dictionary with the root node and unknown children\n",
    "    node_child_dict={node_label+'0':''} \n",
    "    \n",
    "    #call the function 'node_child' to populate node_child_dict\n",
    "    node_child(symb)\n",
    "    \n",
    "    return node_child_dict"
   ]
  },
  {
   "cell_type": "markdown",
   "metadata": {
    "deletable": true,
    "editable": true
   },
   "source": [
    "The above function is called.  \n",
    "The resulting dictionary is printed."
   ]
  },
  {
   "cell_type": "code",
   "execution_count": 51,
   "metadata": {
    "collapsed": false,
    "deletable": true,
    "editable": true
   },
   "outputs": [
    {
     "name": "stdout",
     "output_type": "stream",
     "text": [
      "Dictionary of Nodes and Their Children\n",
      "--------------------------------------\n",
      "\n",
      "{'N1': ['m6', 'N2'], 'N0': ['N1', 'N3'], 'N2': ['m3', 'm4'], 'N3': ['N4', 'm7'], 'N4': ['N5', 'm5'], 'N5': ['m1', 'm2']}\n"
     ]
    }
   ],
   "source": [
    "node_child_dict = node_child_gen(sym_nest, 'N')\n",
    "print('Dictionary of Nodes and Their Children')\n",
    "print('--------------------------------------\\n')\n",
    "print(node_child_dict)"
   ]
  },
  {
   "cell_type": "markdown",
   "metadata": {
    "deletable": true,
    "editable": true
   },
   "source": [
    "### 2.  Edge Labels\n",
    "Both '**sym_nest**' and '**code_dict**' are passed into function '**edge_labels**' to generate two dictionaries:  \n",
    "1.  '**e_labels_dict**', a dictionary of edges(tuple of 2 nodes) and their labels.  This is the format required by *NetworkX*.\n",
    "2.  '**node_path_dict**', a dictionary of symbols and lists of their paths.  This will be used later for node positioning purposes."
   ]
  },
  {
   "cell_type": "code",
   "execution_count": 52,
   "metadata": {
    "collapsed": true,
    "deletable": true,
    "editable": true
   },
   "outputs": [],
   "source": [
    "def edge_labels(node_label, symb, code_dict): \n",
    "    '''\n",
    "    Mostly a wrapper for the function 'path' since it is recursive and\n",
    "    operates on an external dictionary 'node_path_dict'.  Once 'patho' had\n",
    "    been executed, a dictionary of (nodeX, nodeY) and 'x' where x is either\n",
    "    '1' or '0' is generated.  This is the edge label format required by NetworkX\n",
    "    '''  \n",
    "    \n",
    "    #------------------------------------------------------------------ \n",
    "    def patho(symb, node_path = [node_label+'0'], node_index = 0):\n",
    "        '''\n",
    "        Build a dictionary of symbols and a list of nodes from the root\n",
    "        node to the symbol.  This uses similiar strategies as in 'node_child'.\n",
    "        '''\n",
    "        n =  node_index\n",
    "        current_node_path = node_path.copy()\n",
    "        for i in range(2):\n",
    "            if type(symb[i]) == str:\n",
    "                node_path_dict[symb[i]] = current_node_path\n",
    "            else:\n",
    "                node = node_label+str(n+1)\n",
    "                n = n+1\n",
    "                current_node_path.append(node)\n",
    "                n = patho(symb[i], current_node_path, n)\n",
    "                current_node_path.pop()\n",
    "        return n  \n",
    "    #------------------------------------------------------------------ \n",
    "    \n",
    "    #initialize an empty dictionary for function 'patho' and call function\n",
    "    node_path_dict={}\n",
    "    patho(symb)\n",
    "\n",
    "    e_labels_dict={}\n",
    "    #Populate 'e_labels_dict' with edges((nodeA,nodeB)) and the binary digit assosciated with that edge. \n",
    "    for key in node_path_dict.keys():\n",
    "        temp_list = node_path_dict[key]\n",
    "        if len(temp_list) > 1:\n",
    "            for i in range(len(temp_list)-1):\n",
    "                e_labels_dict[(temp_list[i], temp_list[i+1])] = code_dict[key][i]\n",
    "            e_labels_dict[(temp_list[i+1], key)] = code_dict[key][i+1]\n",
    "        else:\n",
    "            e_labels_dict[(temp_list[0], key)] = code_dict[key][0]\n",
    "            \n",
    "    return e_labels_dict, node_path_dict"
   ]
  },
  {
   "cell_type": "markdown",
   "metadata": {
    "deletable": true,
    "editable": true
   },
   "source": [
    "The above function is called.  \n",
    "The resulting dictionaries are printed."
   ]
  },
  {
   "cell_type": "code",
   "execution_count": 53,
   "metadata": {
    "collapsed": false,
    "deletable": true,
    "editable": true
   },
   "outputs": [
    {
     "name": "stdout",
     "output_type": "stream",
     "text": [
      "Edge Labels of the Graph\n",
      "------------------------\n",
      "\n",
      "{('N1', 'm6'): '0', ('N5', 'm1'): '0', ('N3', 'N4'): '0', ('N0', 'N1'): '0', ('N2', 'm3'): '0', ('N4', 'm5'): '1', ('N5', 'm2'): '1', ('N2', 'm4'): '1', ('N4', 'N5'): '0', ('N1', 'N2'): '1', ('N0', 'N3'): '1', ('N3', 'm7'): '1'}\n",
      "\n",
      "\n",
      "\n",
      "Dictionary of Symbols and Their Paths\n",
      "-------------------------------------\n",
      "\n",
      "{'m2': ['N0', 'N3', 'N4', 'N5'], 'm5': ['N0', 'N3', 'N4'], 'm6': ['N0', 'N1'], 'm7': ['N0', 'N3'], 'm1': ['N0', 'N3', 'N4', 'N5'], 'm3': ['N0', 'N1', 'N2'], 'm4': ['N0', 'N1', 'N2']}\n"
     ]
    }
   ],
   "source": [
    "e_labels_dict, node_path_dict = edge_labels('N', sym_nest, code_dict)\n",
    "print('Edge Labels of the Graph')\n",
    "print('------------------------\\n')\n",
    "print(e_labels_dict)\n",
    "print('\\n\\n')\n",
    "print('Dictionary of Symbols and Their Paths')\n",
    "print('-------------------------------------\\n')\n",
    "print(node_path_dict)"
   ]
  },
  {
   "cell_type": "markdown",
   "metadata": {
    "deletable": true,
    "editable": true
   },
   "source": [
    "### 3.  Node Labels\n",
    "Once the dictionary '**node_child_dict**' is populated, which it should already be, the '.draw()' and '.Graph()' methods of *NetworkX* will use the node and symbol names as labels.  However, if the probabilities or frequencies are desired as labels, a new label dictionary of node/symbol and probability/frequency needs to be created."
   ]
  },
  {
   "cell_type": "code",
   "execution_count": 54,
   "metadata": {
    "collapsed": true,
    "deletable": true,
    "editable": true
   },
   "outputs": [],
   "source": [
    "def node_symb_prob_dict(sym, prb, node_child_dict): \n",
    "    '''\n",
    "    Creates a dictionary of symbols and probabilities from the list of symbols \n",
    "    and probablities 'sym_prb_dict'.  Then based on the information in \n",
    "    'node_child_dict', a dictionary of nodes and their children, the nodes and \n",
    "    their cumulative probabilities are added into 'sym_prb_dict'.  \n",
    "    '''\n",
    "    sym_prb_dict = dict(zip(sym,prb))\n",
    "    node_child_dict_cp=node_child_dict.copy()\n",
    "    \n",
    "    # At first, 'sym_prb_dict' contains only childrens of nodes.  Once the nodes\n",
    "    # with children of symbols only are found in 'node_child_dict_cp', the nodes \n",
    "    # are added into 'sym_prb_dict' and removed from 'node_child_dict_cp'.     \n",
    "    while len(node_child_dict_cp)!=0:\n",
    "        for key in node_child_dict_cp.keys():\n",
    "            key_del_list=[]\n",
    "            child = node_child_dict_cp[key]\n",
    "            if child[0] in sym_prb_dict.keys() and child[1] in sym_prb_dict.keys():\n",
    "                sym_prb_dict[key]= sym_prb_dict[child[0]]+ sym_prb_dict[child[1]]\n",
    "                key_del_list.append(key)\n",
    "        for key in key_del_list:\n",
    "            node_child_dict_cp.pop(key)\n",
    "    return sym_prb_dict "
   ]
  },
  {
   "cell_type": "code",
   "execution_count": 55,
   "metadata": {
    "collapsed": false,
    "deletable": true,
    "editable": true
   },
   "outputs": [
    {
     "name": "stdout",
     "output_type": "stream",
     "text": [
      "Node Labels in Probability or Frequency\n",
      "---------------------------------------\n",
      "\n",
      "{'m2': 5, 'N1': 27, 'N3': 39, 'm3': 7, 'm4': 8, 'N4': 19, 'N5': 9, 'N0': 66, 'm5': 10, 'm6': 12, 'm7': 20, 'm1': 4, 'N2': 15}\n"
     ]
    }
   ],
   "source": [
    "spd_cpy = node_symb_prob_dict(sym, prb, node_child_dict)\n",
    "print('Node Labels in Probability or Frequency')\n",
    "print('---------------------------------------\\n')\n",
    "print(spd_cpy)"
   ]
  },
  {
   "cell_type": "markdown",
   "metadata": {
    "collapsed": true,
    "deletable": true,
    "editable": true
   },
   "source": [
    "### 4.  Node Positions\n",
    "The number of levels or the depth of the graph is derived with the function '**level_dict**' using the information provided by '**node_path_dict**'. The number of levels is used to figure out the y axis increment of the graph.  The positions of each node and symbol is then generated by the function '**node_posi**' with the y axis increment and '**node_child_dict**' information.  <u>The information in '**level_dict**' is currently not fully utilized to better position the nodes and symbols in the x axis</u>.     "
   ]
  },
  {
   "cell_type": "code",
   "execution_count": 63,
   "metadata": {
    "collapsed": true,
    "deletable": true,
    "editable": true
   },
   "outputs": [],
   "source": [
    "import numpy as np"
   ]
  },
  {
   "cell_type": "code",
   "execution_count": 71,
   "metadata": {
    "collapsed": true
   },
   "outputs": [],
   "source": [
    "def level_dict(node_path_dict):\n",
    "    '''\n",
    "    From 'node_path_dict', a dictionary of levels and nodes/symbols of the \n",
    "    corresponding levels is created.  The number of levels and the amount of\n",
    "    nodes/symbols of each level could be used to position the nodes/symbols for\n",
    "    clearer display of the graph.  \n",
    "    '''\n",
    "    level_dict={}\n",
    "    for key in node_path_dict.keys():\n",
    "        temp_list = node_path_dict[key]\n",
    "        for i in range(len(temp_list)):\n",
    "            if i not in level_dict.keys():\n",
    "                level_dict[i] = []\n",
    "            if node_path_dict[key][i] not in level_dict[i]:\n",
    "                level_dict[i].append(node_path_dict[key][i])\n",
    "        if (i+1) not in level_dict.keys():\n",
    "            level_dict[i+1] = []\n",
    "        level_dict[i+1].append(key)\n",
    "    return level_dict"
   ]
  },
  {
   "cell_type": "code",
   "execution_count": 72,
   "metadata": {
    "collapsed": true
   },
   "outputs": [],
   "source": [
    "def node_posi(node_label, y_off, node_child_dict):\n",
    "    '''\n",
    "    Calls the function 'posi_place' recursively starting from the root node. \n",
    "    The termination condition is when a symbol is placed.  NetworkX has a grid\n",
    "    from -1 to 1 in both the x and y directions.  The position of the root node\n",
    "    is at 0,1.  The dictionary 'posi' will be returned and conforms to the \n",
    "    format of NetworkX.\n",
    "    '''\n",
    "    def posi_place(key, width=1):\n",
    "        child0 = node_child_dict[key][0]       \n",
    "        child0_x = posi[key][0] - width/2\n",
    "        child0_y = posi[key][1] - y_off\n",
    "        posi[child0] = np.array([child0_x, child0_y])\n",
    "        if child0 in node_child_dict.keys():\n",
    "            posi_place(child0,width/2)\n",
    "            \n",
    "        child1 = node_child_dict[key][1]        \n",
    "        child1_x = posi[key][0] + width/2\n",
    "        child1_y = posi[key][1] - y_off\n",
    "        posi[child1] = np.array([child1_x, child1_y])\n",
    "        if child1 in node_child_dict.keys():\n",
    "            posi_place(child1,width/2)\n",
    "    \n",
    "    root_node = node_label+'0'\n",
    "    posi = {root_node : np.array([0,1])}    \n",
    "    posi_place(root_node)\n",
    "    \n",
    "    return posi"
   ]
  },
  {
   "cell_type": "markdown",
   "metadata": {},
   "source": [
    "The above functions are called.  \n",
    "The resulting dictionaries are printed."
   ]
  },
  {
   "cell_type": "code",
   "execution_count": 73,
   "metadata": {
    "collapsed": false,
    "deletable": true,
    "editable": true
   },
   "outputs": [
    {
     "name": "stdout",
     "output_type": "stream",
     "text": [
      "Levels of the Graph and Node/Symbols in the Level\n",
      "-------------------------------------------------\n",
      "\n",
      "{0: ['N0'], 1: ['N3', 'N1'], 2: ['N4', 'm6', 'm7', 'N2'], 3: ['N5', 'm5', 'm3', 'm4'], 4: ['m2', 'm1']}\n",
      "\n",
      "\n",
      "\n",
      "The positions of Nodes and Symbols\n",
      "----------------------------------\n",
      "\n",
      "{'m2': array([ 0.1875, -0.6   ]), 'N1': array([-0.5,  0.6]), 'm4': array([-0.125, -0.2  ]), 'N2': array([-0.25,  0.2 ]), 'N3': array([0.5, 0.6]), 'N4': array([0.25, 0.2 ]), 'N5': array([ 0.125, -0.2  ]), 'N0': array([0, 1]), 'm5': array([ 0.375, -0.2  ]), 'm6': array([-0.75,  0.2 ]), 'm7': array([0.75, 0.2 ]), 'm1': array([ 0.0625, -0.6   ]), 'm3': array([-0.375, -0.2  ])}\n"
     ]
    }
   ],
   "source": [
    "level_dict = level_dict(node_path_dict)\n",
    "\n",
    "#y-offset.  Since the total height of the graph is 2, the y-axis increment is 2/levels \n",
    "y_off = 2/len(level_dict)\n",
    "\n",
    "posi = node_posi('N', y_off, node_child_dict)\n",
    "\n",
    "print('Levels of the Graph and Node/Symbols in the Level')\n",
    "print('-------------------------------------------------\\n')\n",
    "print(level_dict)\n",
    "print('\\n\\n')\n",
    "print('The positions of Nodes and Symbols')\n",
    "print('----------------------------------\\n')\n",
    "print(posi)"
   ]
  },
  {
   "cell_type": "markdown",
   "metadata": {
    "deletable": true,
    "editable": true
   },
   "source": [
    "---"
   ]
  },
  {
   "cell_type": "markdown",
   "metadata": {
    "deletable": true,
    "editable": true
   },
   "source": [
    "## III.  Graph"
   ]
  },
  {
   "cell_type": "code",
   "execution_count": 74,
   "metadata": {
    "collapsed": true,
    "deletable": true,
    "editable": true
   },
   "outputs": [],
   "source": [
    "import matplotlib.pyplot as plt\n",
    "import networkx as nx\n",
    "import ipywidgets as widgets\n",
    "from ipywidgets import interact"
   ]
  },
  {
   "cell_type": "code",
   "execution_count": 80,
   "metadata": {
    "collapsed": false,
    "deletable": true,
    "editable": true
   },
   "outputs": [],
   "source": [
    "def huff_graph(labels):\n",
    "    if labels[0]=='N':\n",
    "        node=True\n",
    "    else:\n",
    "        node=False\n",
    "    plt.clf()\n",
    "    G=nx.Graph(node_child_dict)\n",
    "    pos = posi\n",
    "    nx.draw(G, pos = pos, with_labels = node)\n",
    "    nx.draw_networkx_edge_labels(G,pos,edge_labels = e_labels_dict,font_color='blue')\n",
    "    if node==False:\n",
    "        nx.draw_networkx_labels(G,pos = posi, labels = spd_cpy)\n",
    "    plt.show()\n"
   ]
  },
  {
   "cell_type": "code",
   "execution_count": 83,
   "metadata": {
    "collapsed": false,
    "deletable": true,
    "editable": true
   },
   "outputs": [
    {
     "data": {
      "application/vnd.jupyter.widget-view+json": {
       "model_id": "7b8fe76886024f80afb04fddf08f1777"
      }
     },
     "metadata": {},
     "output_type": "display_data"
    }
   ],
   "source": [
    "interact(huff_graph, labels=['Nodes/Symbols', 'Probabilities/Frequencies']);"
   ]
  },
  {
   "cell_type": "code",
   "execution_count": null,
   "metadata": {
    "collapsed": true
   },
   "outputs": [],
   "source": []
  }
 ],
 "metadata": {
  "kernelspec": {
   "display_name": "Python 3",
   "language": "python",
   "name": "python3"
  },
  "language_info": {
   "codemirror_mode": {
    "name": "ipython",
    "version": 3
   },
   "file_extension": ".py",
   "mimetype": "text/x-python",
   "name": "python",
   "nbconvert_exporter": "python",
   "pygments_lexer": "ipython3",
   "version": "3.5.2"
  }
 },
 "nbformat": 4,
 "nbformat_minor": 2
}
